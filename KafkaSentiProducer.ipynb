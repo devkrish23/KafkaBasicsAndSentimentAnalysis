{
 "cells": [
  {
   "cell_type": "code",
   "execution_count": null,
   "id": "7a9b84c6",
   "metadata": {},
   "outputs": [],
   "source": [
    "# Install dependicies\n",
    "!pip install textblob\n",
    "!pip install tweepy\n",
    "!pip install wordcloud\n",
    "!pip install kafka-python\n"
   ]
  },
  {
   "cell_type": "code",
   "execution_count": null,
   "id": "9ff83726",
   "metadata": {},
   "outputs": [],
   "source": [
    "from tweepy.streaming import Stream\n",
    "from tweepy import OAuthHandler\n",
    "from tweepy import Stream\n",
    "from kafka import KafkaProducer, KafkaAdminClient\n",
    "from kafka.admin import NewTopic\n",
    "from kafka.errors import KafkaError\n",
    "import random\n",
    "import os, sys, datetime, time\n",
    "\n",
    "kafka_server_ip = \"172.17.249.145\"\n"
   ]
  },
  {
   "cell_type": "markdown",
   "id": "8688abc9",
   "metadata": {},
   "source": [
    "# Twitter streams in offline mode"
   ]
  },
  {
   "cell_type": "code",
   "execution_count": null,
   "id": "abb8fb72",
   "metadata": {},
   "outputs": [],
   "source": [
    "\"\"\"Code to stimulate realtime twitter api data\"\"\"\n",
    "\n",
    "class TwitterAPIStimulator():\n",
    "    \n",
    "    def __init__(self, topic_name):\n",
    "        '''\n",
    "        default constructor \n",
    "        creates kafka producer client object\n",
    "        loads list of offline tweets\n",
    "        uses kaggle dataset\n",
    "        '''\n",
    "        \n",
    "        self.producer = KafkaProducer(bootstrap_servers=f'{kafka_server_ip}:9092') #Same port as your Kafka server\n",
    "        self.topic_name = topic_name\n",
    "        \n",
    "        # set up Kafka admin client\n",
    "        self.admin_client = KafkaAdminClient(bootstrap_servers=[f'{kafka_server_ip}:9092'],\n",
    "                                             client_id='admin'\n",
    "                                            )\n",
    "        # create kafka topic\n",
    "        self.kafka_create_topic()\n",
    "        \n",
    "        self.offline_tweets = open(\"offlineTweets.csv\", 'r').readlines()\n",
    "        print(f\"No of tweets loaded: {len(self.offline_tweets)}\")\n",
    "    \n",
    "    def random_tweets(self):\n",
    "        '''\n",
    "        generates 100 random tweets\n",
    "        returns: list -> list of tweets\n",
    "        '''\n",
    "        \n",
    "        stime = time.time()\n",
    "        random_tweets = []\n",
    "        counter = 0\n",
    "        while counter<=100:\n",
    "            index = random.randint(0, len(self.offline_tweets))\n",
    "            random_tweets.append(self.offline_tweets[index])\n",
    "            self.offline_tweets.pop(index)\n",
    "            counter += 1\n",
    "        print(f\"Total time to generate 100 random tweets : {time.time()-stime}\")\n",
    "        \n",
    "        return random_tweets\n",
    "    \n",
    "    def kafka_delete_topic(self):\n",
    "        '''\n",
    "        func to delete a topic using admin api\n",
    "        '''    \n",
    "            \n",
    "        # Create the topic deletion request\n",
    "        delete_request = self.admin_client.delete_topics(topics=[self.topic_name])\n",
    "        time.sleep(30)\n",
    "                \n",
    "        # Verify that the topic has been deleted\n",
    "        if self.topic_name not in self.admin_client.list_topics():\n",
    "            print(f\"Topic {self.topic_name} has been successfully deleted.\")\n",
    "        else:\n",
    "            print(f\"Failed to delete topic {self.topic_name}.\")\n",
    "            \n",
    "            \n",
    "    \n",
    "    def kafka_create_topic(self):\n",
    "        '''\n",
    "        func to create topic\n",
    "        using kafka admin client api\n",
    "        '''\n",
    "        \n",
    "        topic_list = self.admin_client.list_topics()\n",
    "        # Filter out internal topics that start with \"__\" ; -> example filters any consumer offsets\n",
    "        if self.topic_name not in [t for t in topic_list if not t.startswith('__')]:\n",
    "            print(f\"Creating a new topic {self.topic_name}\")\n",
    "            # create new topic configuration\n",
    "            partitions = 3\n",
    "            replication_factor = 1\n",
    "            new_topic = NewTopic(name=self.topic_name, \n",
    "                                 num_partitions=partitions, \n",
    "                                 replication_factor=replication_factor)\n",
    "\n",
    "            # create new topic\n",
    "            self.admin_client.create_topics(new_topics=[new_topic], validate_only=False)\n",
    "        else:\n",
    "            print(f\"{self.topic_name} already exists....\")\n",
    "\n",
    "    \n",
    "    def kafka_twitter_producer(self):\n",
    "        '''\n",
    "        Func to publish data streams\n",
    "        to kafka cluster\n",
    "        '''\n",
    "        \n",
    "        stime = time.time()\n",
    "        for line in self.random_tweets():\n",
    "            # producer with callbacks\n",
    "            self.producer.send( self.topic_name, \n",
    "                               str.encode(\"\".join(line.split(\"NO_QUERY\")[-1].split(\",\")[2:]) )).add_callback(\n",
    "                                lambda x: print('Message delivered to partition {} with offset {}'.format(\n",
    "                                    x.partition, x.offset))).add_errback(\n",
    "                                        lambda excp: print (f\"Failed to send message: {excp}\"))\n",
    "            self.producer.flush()\n",
    "            \n",
    "        print(f\"Total time to publish 100 random tweets : {time.time()-stime}\")\n",
    "        \n",
    "            \n"
   ]
  },
  {
   "cell_type": "code",
   "execution_count": null,
   "id": "147eec9a",
   "metadata": {},
   "outputs": [],
   "source": [
    "twitteroffline = TwitterAPIStimulator(topic_name = \"twitterstreams\")"
   ]
  },
  {
   "cell_type": "code",
   "execution_count": null,
   "id": "b65a3d83",
   "metadata": {},
   "outputs": [],
   "source": [
    "twitteroffline.kafka_twitter_producer() # generating 100 tweets randomly"
   ]
  },
  {
   "cell_type": "code",
   "execution_count": null,
   "id": "e7f9e8fb",
   "metadata": {},
   "outputs": [],
   "source": [
    "twitteroffline.producer.close()"
   ]
  },
  {
   "cell_type": "code",
   "execution_count": null,
   "id": "3aa4ea1d",
   "metadata": {},
   "outputs": [],
   "source": [
    "twitteroffline.kafka_delete_topic() # delete a topic"
   ]
  },
  {
   "cell_type": "code",
   "execution_count": null,
   "id": "15d7ada3",
   "metadata": {},
   "outputs": [],
   "source": [
    "twitteroffline.admin_client.close()"
   ]
  },
  {
   "cell_type": "code",
   "execution_count": null,
   "id": "263a63b6",
   "metadata": {},
   "outputs": [],
   "source": []
  }
 ],
 "metadata": {
  "kernelspec": {
   "display_name": "Python 3 (ipykernel)",
   "language": "python",
   "name": "python3"
  },
  "language_info": {
   "codemirror_mode": {
    "name": "ipython",
    "version": 3
   },
   "file_extension": ".py",
   "mimetype": "text/x-python",
   "name": "python",
   "nbconvert_exporter": "python",
   "pygments_lexer": "ipython3",
   "version": "3.9.7"
  }
 },
 "nbformat": 4,
 "nbformat_minor": 5
}
