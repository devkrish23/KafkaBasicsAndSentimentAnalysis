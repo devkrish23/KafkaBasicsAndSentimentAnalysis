{
 "cells": [
  {
   "cell_type": "code",
   "execution_count": null,
   "id": "77d330b3",
   "metadata": {},
   "outputs": [],
   "source": [
    "from kafka import KafkaConsumer\n",
    "import json\n",
    "kafka_server_ip = \"172.17.249.145\"\n"
   ]
  },
  {
   "cell_type": "code",
   "execution_count": null,
   "id": "e6dbbb6a",
   "metadata": {},
   "outputs": [],
   "source": [
    "class KafkaConsumerClient():\n",
    "    \n",
    "    def create_consumer(self, topic_name):\n",
    "        '''\n",
    "        func to create consumer without serializer \n",
    "        '''\n",
    "        \n",
    "        # kafka consumer\n",
    "        self.consumer = KafkaConsumer(topic_name,\n",
    "                                      bootstrap_servers=[f'{kafka_server_ip}:9092'],\n",
    "                                      auto_offset_reset='earliest',\n",
    "                                      enable_auto_commit=True,\n",
    "                                      auto_commit_interval_ms =  5000,\n",
    "                                      fetch_max_bytes = 128,\n",
    "                                      max_poll_records = 100,\n",
    "                                     )\n",
    "        \n",
    "    def create_consumer_json(self, topic_name):\n",
    "        '''\n",
    "        func to create consumer with json serializer'''\n",
    "        \n",
    "        # Define Kafka consumer\n",
    "        self.consumer = KafkaConsumer(topic_name,   \n",
    "                                      bootstrap_servers=[f'{kafka_server_ip}:9092'],\n",
    "                                      auto_offset_reset='earliest',\n",
    "                                      enable_auto_commit=True,\n",
    "                                      auto_commit_interval_ms =  5000,\n",
    "                                      fetch_max_bytes = 128,\n",
    "                                      max_poll_records = 100,\n",
    "                                      value_deserializer=lambda m: json.loads(m.decode('utf-8')),\n",
    "                                      key_deserializer=lambda m: m.decode('utf-8'),\n",
    "                                      security_protocol=\"PLAINTEXT\")\n",
    "              \n",
    "    \n",
    "    def kafka_consumer(self):\n",
    "        '''\n",
    "        Func to publish data streams\n",
    "        to kafka cluster\n",
    "        '''\n",
    "        \n",
    "        for message in self.consumer:\n",
    "            print(message.value)\n",
    "            \n",
    "    def kafka_consumer_with_timeout(self, minutes=2):\n",
    "        \n",
    "        # start consuming messages\n",
    "        try:\n",
    "            while True:\n",
    "                messages = self.consumer.poll(timeout_ms = 1000*60*minutes) # wait for messages\n",
    "                if not messages:\n",
    "                    raise TimeoutError(f\"No messages received in the last {minutes} minutes\")\n",
    "\n",
    "                for _, message in messages.items():\n",
    "                    # process message\n",
    "                    print(message[0].value)\n",
    "\n",
    "        except KeyboardInterrupt:\n",
    "            pass\n",
    "\n",
    "        finally:\n",
    "            self.consumer.close()\n",
    "        "
   ]
  },
  {
   "cell_type": "code",
   "execution_count": null,
   "id": "cb00ec32",
   "metadata": {},
   "outputs": [],
   "source": [
    "kafkaconsumer_client = KafkaConsumerClient()\n",
    "# create consumer without serializer\n",
    "kafkaconsumer_client.create_consumer(\"topic1\")\n",
    "# consumer without polling\n",
    "kafkaconsumer_client.kafka_consumer()"
   ]
  },
  {
   "cell_type": "code",
   "execution_count": null,
   "id": "6d6ad6bb",
   "metadata": {},
   "outputs": [],
   "source": [
    "kafkaconsumer_client.consumer.close()"
   ]
  },
  {
   "cell_type": "code",
   "execution_count": null,
   "id": "ff58ed47",
   "metadata": {},
   "outputs": [],
   "source": []
  },
  {
   "cell_type": "code",
   "execution_count": null,
   "id": "509804d7",
   "metadata": {},
   "outputs": [],
   "source": [
    "kafkaconsumer_client = KafkaConsumerClient()\n",
    "# create consumer without serializer\n",
    "kafkaconsumer_client.create_consumer(\"topic1\")\n",
    "# consumer with polling timeout\n",
    "kafkaconsumer_client.kafka_consumer_with_timeout(0.5)"
   ]
  },
  {
   "cell_type": "code",
   "execution_count": null,
   "id": "5af82b22",
   "metadata": {},
   "outputs": [],
   "source": []
  },
  {
   "cell_type": "code",
   "execution_count": null,
   "id": "fda91c82",
   "metadata": {},
   "outputs": [],
   "source": []
  },
  {
   "cell_type": "code",
   "execution_count": null,
   "id": "95cf487a",
   "metadata": {},
   "outputs": [],
   "source": [
    "kafkaconsumer_client = KafkaConsumerClient()\n",
    "# create consumer with serializer\n",
    "kafkaconsumer_client.create_consumer_json(\"topic2\")\n",
    "# consumer with polling timeout\n",
    "kafkaconsumer_client.kafka_consumer_with_timeout(0.5)"
   ]
  },
  {
   "cell_type": "code",
   "execution_count": null,
   "id": "cc365501",
   "metadata": {},
   "outputs": [],
   "source": []
  },
  {
   "cell_type": "code",
   "execution_count": null,
   "id": "de4b647e",
   "metadata": {},
   "outputs": [],
   "source": []
  }
 ],
 "metadata": {
  "kernelspec": {
   "display_name": "Python 3 (ipykernel)",
   "language": "python",
   "name": "python3"
  },
  "language_info": {
   "codemirror_mode": {
    "name": "ipython",
    "version": 3
   },
   "file_extension": ".py",
   "mimetype": "text/x-python",
   "name": "python",
   "nbconvert_exporter": "python",
   "pygments_lexer": "ipython3",
   "version": "3.9.7"
  }
 },
 "nbformat": 4,
 "nbformat_minor": 5
}
