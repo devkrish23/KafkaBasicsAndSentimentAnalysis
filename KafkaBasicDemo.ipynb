{
 "cells": [
  {
   "cell_type": "code",
   "execution_count": null,
   "id": "0a2901eb",
   "metadata": {},
   "outputs": [],
   "source": [
    "from kafka import KafkaProducer, KafkaAdminClient\n",
    "from kafka.admin import NewTopic\n",
    "from kafka.errors import KafkaError\n",
    "from kafka import KafkaConsumer\n",
    "import random\n",
    "import os, sys, datetime, time\n",
    "import json\n",
    "\n",
    "kafka_server_ip = \"172.17.249.145\"\n"
   ]
  },
  {
   "cell_type": "markdown",
   "id": "a7d9c33b",
   "metadata": {},
   "source": [
    "# Kafka admin api"
   ]
  },
  {
   "cell_type": "code",
   "execution_count": null,
   "id": "0e6b4e1b",
   "metadata": {},
   "outputs": [],
   "source": [
    "class KafkaAdminAPIClient():\n",
    "    '''\n",
    "    admin client api implementation\n",
    "    '''\n",
    "    \n",
    "    def __init__(self):\n",
    "        \n",
    "        # set up Kafka admin client\n",
    "        self.admin_client = KafkaAdminClient(bootstrap_servers=[f'{kafka_server_ip}:9092'],\n",
    "                                             client_id='admin'\n",
    "                                            )\n",
    "        \n",
    "    def kafka_create_topic(self, topic_name, partitions, replication_factor):\n",
    "        '''\n",
    "        func to create topic\n",
    "        using kafka admin client api\n",
    "        '''\n",
    "        \n",
    "        topic_list = self.admin_client.list_topics()\n",
    "        # Filter out internal topics that start with \"__\" ; -> example filters any consumer offsets\n",
    "        if topic_name not in [t for t in topic_list if not t.startswith('__')]:\n",
    "            print(f\"Creating a new topic {topic_name}\")\n",
    "            # create new topic configuration\n",
    "            new_topic = NewTopic(name = topic_name, \n",
    "                                 num_partitions = partitions, \n",
    "                                 replication_factor = replication_factor)\n",
    "\n",
    "            # create new topic\n",
    "            self.admin_client.create_topics(new_topics=[new_topic], validate_only=False)\n",
    "            print(f\"New kafka topic named {topic_name} created successfully....\")\n",
    "            \n",
    "        else:\n",
    "            \n",
    "            print(f\"{topic_name} already exists....\")\n",
    "            \n",
    "    def kafka_delete_topic(self, topic_name):\n",
    "        '''\n",
    "        func to delete a topic using admin api\n",
    "        '''    \n",
    "            \n",
    "        # Create the topic deletion request\n",
    "        self.admin_client.delete_topics(topics=[topic_name])\n",
    "        time.sleep(30)\n",
    "                \n",
    "        # Verify that the topic has been deleted\n",
    "        if topic_name not in self.admin_client.list_topics():\n",
    "            print(f\"Topic {topic_name} has been successfully deleted.\")\n",
    "        else:\n",
    "            print(f\"Failed to delete topic {topic_name}.\")\n",
    "            \n",
    "    def kafka_topics_list(self):\n",
    "        '''\n",
    "        func to get list of topics\n",
    "        '''\n",
    "        \n",
    "        return self.admin_client.list_topics()\n",
    "    \n",
    "    def kafka_describe_topic(self, topic_name):\n",
    "        \n",
    "        return self.admin_client.describe_topics(topic_name)\n",
    "    \n"
   ]
  },
  {
   "cell_type": "code",
   "execution_count": null,
   "id": "f3e41abb",
   "metadata": {},
   "outputs": [],
   "source": [
    "kafka_admin_client = KafkaAdminAPIClient()"
   ]
  },
  {
   "cell_type": "code",
   "execution_count": null,
   "id": "e15ad629",
   "metadata": {},
   "outputs": [],
   "source": [
    "# create a kafka topic\n",
    "kafka_admin_client.kafka_create_topic(topic_name = \"topic1\",\n",
    "                                      partitions = 3,\n",
    "                                      replication_factor = 1)"
   ]
  },
  {
   "cell_type": "code",
   "execution_count": null,
   "id": "5bdf4bad",
   "metadata": {},
   "outputs": [],
   "source": [
    "# describe a kafka topic\n",
    "kafka_admin_client.kafka_describe_topic(topic_name='topic1')"
   ]
  },
  {
   "cell_type": "code",
   "execution_count": null,
   "id": "84199a27",
   "metadata": {},
   "outputs": [],
   "source": [
    "# list kafka topics\n",
    "kafka_admin_client.kafka_topics_list()"
   ]
  },
  {
   "cell_type": "code",
   "execution_count": null,
   "id": "2994dca6",
   "metadata": {},
   "outputs": [],
   "source": [
    "# delete a kafka topic\n",
    "kafka_admin_client.kafka_delete_topic(topic_name=\"topic2\")"
   ]
  },
  {
   "cell_type": "code",
   "execution_count": null,
   "id": "6929e9cd",
   "metadata": {},
   "outputs": [],
   "source": [
    "# gracefully close kafka admin client\n",
    "kafka_admin_client.admin_client.close()"
   ]
  },
  {
   "cell_type": "code",
   "execution_count": null,
   "id": "0835fef2",
   "metadata": {},
   "outputs": [],
   "source": []
  },
  {
   "cell_type": "code",
   "execution_count": null,
   "id": "4347bb3e",
   "metadata": {},
   "outputs": [],
   "source": []
  },
  {
   "cell_type": "markdown",
   "id": "fbc1cbc2",
   "metadata": {},
   "source": [
    "# Kafka Producer example"
   ]
  },
  {
   "cell_type": "code",
   "execution_count": null,
   "id": "15c2422c",
   "metadata": {},
   "outputs": [],
   "source": [
    "class KafkaProducerClient():\n",
    "    \n",
    "    def __init__(self):\n",
    "        '''\n",
    "        '''\n",
    "        \n",
    "        # kafka producer \n",
    "        self.producer = KafkaProducer(bootstrap_servers=f'{kafka_server_ip}:9092') #Same port as your Kafka server\n",
    "        # kafka producer with serializer\n",
    "        self.producer_serializer = KafkaProducer(bootstrap_servers=f'{kafka_server_ip}:9092',\n",
    "                                                 value_serializer=lambda m: json.dumps(m).encode('utf-8'),\n",
    "                                                 key_serializer=lambda m: m.encode('utf-8'),\n",
    "                                                 security_protocol=\"PLAINTEXT\") #Same port as your Kafka server\n",
    "                \n",
    "    \n",
    "    def kafka_producer(self, topic_name, message_list):\n",
    "        '''\n",
    "        Func to publish data streams\n",
    "        to kafka cluster\n",
    "        '''\n",
    "        \n",
    "        stime = time.time()\n",
    "        for line in message_list:\n",
    "            # producer with callbacks\n",
    "            self.producer.send( topic_name, \n",
    "                               str.encode(line)).add_callback(\n",
    "                                   lambda x: print('Message delivered to partition {} with offset {}'.format(x.partition, x.offset))).add_errback(\n",
    "                                       lambda excp: print (f\"Failed to send message: {excp}\"))\n",
    "            self.producer.flush()\n",
    "            \n",
    "        print(f\"Total time to publish {len(message_list)} messages : {time.time()-stime}\")\n",
    "        \n",
    "        \n",
    "    def kafka_producer_serializer(self, topic_name, json_list):\n",
    "        '''\n",
    "        Func to publish data streams\n",
    "        to kafka cluster\n",
    "        '''\n",
    "        \n",
    "        stime = time.time()\n",
    "        for message in json_list:\n",
    "            # producer with callbacks\n",
    "            self.producer_serializer.send(topic_name, \n",
    "                               key = message['company'], value = message).add_callback(\n",
    "                                   lambda x: print('Message delivered to partition {} with offset {}'.format(x.partition, x.offset))).add_errback(\n",
    "                                       lambda excp: print (f\"Failed to send message: {excp}\"))\n",
    "            self.producer.flush()\n",
    "            \n",
    "        print(f\"Total time to publish {len(json_list)} messages : {time.time()-stime}\")\n",
    "        \n",
    "        "
   ]
  },
  {
   "cell_type": "code",
   "execution_count": null,
   "id": "135271b0",
   "metadata": {},
   "outputs": [],
   "source": [
    "# create kafka producer\n",
    "kafkaproducer_client = KafkaProducerClient()"
   ]
  },
  {
   "cell_type": "code",
   "execution_count": null,
   "id": "9bfbd4b1",
   "metadata": {},
   "outputs": [],
   "source": [
    "kafkaproducer_client.kafka_producer(\"topic1\", message_list = [\"hello world\"])"
   ]
  },
  {
   "cell_type": "code",
   "execution_count": null,
   "id": "ea0a75c8",
   "metadata": {},
   "outputs": [],
   "source": []
  },
  {
   "cell_type": "code",
   "execution_count": null,
   "id": "efd9d4c6",
   "metadata": {},
   "outputs": [],
   "source": [
    "kafkaproducer_client.kafka_producer_serializer(\"topic2\", message)"
   ]
  },
  {
   "cell_type": "code",
   "execution_count": null,
   "id": "4fe7165a",
   "metadata": {},
   "outputs": [],
   "source": []
  },
  {
   "cell_type": "code",
   "execution_count": null,
   "id": "9bcbdfdd",
   "metadata": {},
   "outputs": [],
   "source": []
  },
  {
   "cell_type": "code",
   "execution_count": null,
   "id": "26f8c71f",
   "metadata": {},
   "outputs": [],
   "source": []
  },
  {
   "cell_type": "code",
   "execution_count": null,
   "id": "03e08bcf",
   "metadata": {},
   "outputs": [],
   "source": [
    "# Create a message\n",
    "message = [\n",
    "    {\n",
    "        \"company\": \"3M\",\n",
    "        \"description\": \"3M, based in Minnesota, may be best known for its Scotch tape and Post-It Notes, but it also produces sand paper, adhesives, medical products, computer screen filters, food safety items, stationery products and many products used in automotive, marine, and aircraft industries.\",\n",
    "        \"initial_price\": 44.28,\n",
    "        \"price_2002\": 56.27,\n",
    "        \"price_2007\": 95.85,\n",
    "        \"symbol\": \"MMM\"\n",
    "    },\n",
    "    {\n",
    "        \"company\": \"Amazon.com\",\n",
    "        \"description\": \"Amazon.com, Inc. is an online retailer in North America and internationally. The company serves consumers through its retail Web sites and focuses on selection, price, and convenience. It also offers programs that enable sellers to sell their products on its Web sites, and their own branded Web sites. In addition, the company serves developer customers through Amazon Web Services, which provides access to technology infrastructure that developers can use to enable virtually various type of business. Further, it manufactures and sells the Kindle e-reader. Founded in 1994 and headquartered in Seattle, Washington.\",\n",
    "        \"initial_price\": 89.38,\n",
    "        \"price_2002\": 17.01,\n",
    "        \"price_2007\": 93.43,\n",
    "        \"symbol\": \"AMZN\"\n",
    "    },\n",
    "    {\n",
    "        \"company\": \"Campbell Soup\",\n",
    "        \"description\": \"Campbell Soup is a worldwide food company, offering condensed and ready-to-serve soups; broth, stocks, and canned poultry; pasta sauces; Mexican sauces; canned pastas, gravies, and beans; juices and beverages; and tomato juices. Its customers include retail food chains, mass discounters, mass merchandisers, club stores, convenience stores, drug stores and other retail, and commercial and non-commercial establishments. Campbell Soup Company was founded in 1869 and is headquartered in Camden, New Jersey.\",\n",
    "        \"initial_price\": 37.0,\n",
    "        \"price_2002\": 22.27,\n",
    "        \"price_2007\": 36.4,\n",
    "        \"symbol\": \"CPB\"\n",
    "    },\n",
    "    {\n",
    "        \"company\": \"Disney\",\n",
    "        \"description\": \"The Walt Disney Company, founded in 1923, is a worldwide entertainment company, with movies, cable networks, radio networks, movie production, musical recordings and live stage plays. Disney also operates Walt Disney World in Florida and Disneyland in California, Disney Cruise Line, and international Disney resorts. Disney owns countless licenses and literary properties and publishes books and magazines.\",\n",
    "        \"initial_price\": 40.68,\n",
    "        \"price_2002\": 15.24,\n",
    "        \"price_2007\": 35.47,\n",
    "        \"symbol\": \"DIS\"\n",
    "    },\n",
    "    {\n",
    "        \"company\": \"Dow Chemical\",\n",
    "        \"description\": \"The Dow Chemical Company manufactures raw materials that go into consumer products and services. These materials include food and pharmaceutical ingredients, electronic displays, semiconductor packaging, water purification, insulation, adhesives, pest control, polyurethane, polystyrene (goes into plastics), and crude-oil based raw materials. Dow was founded in 1897 and is based in Midland, Michigan.\",\n",
    "        \"initial_price\": 38.83,\n",
    "        \"price_2002\": 27.65,\n",
    "        \"price_2007\": 44.67,\n",
    "        \"symbol\": \"DOW\"\n",
    "    },\n",
    "    {\n",
    "        \"company\": \"Exxon Mobil\",\n",
    "        \"description\": \"Exxon Mobil engages in the exploration and production of crude oil and natural gas, and manufacture of petroleum products. The company manufactures commodity petrochemicals. The company has operations in the United States, Canada/South America, Europe, Africa, Asia, and Australia/Oceania. Exxon Mobil Corporation was founded in1870 and is based in Irving, Texas.\",\n",
    "        \"initial_price\": 39.0,\n",
    "        \"price_2002\": 32.82,\n",
    "        \"price_2007\": 91.36,\n",
    "        \"symbol\": \"XOM\"\n",
    "    }\n",
    "]"
   ]
  }
 ],
 "metadata": {
  "kernelspec": {
   "display_name": "Python 3 (ipykernel)",
   "language": "python",
   "name": "python3"
  },
  "language_info": {
   "codemirror_mode": {
    "name": "ipython",
    "version": 3
   },
   "file_extension": ".py",
   "mimetype": "text/x-python",
   "name": "python",
   "nbconvert_exporter": "python",
   "pygments_lexer": "ipython3",
   "version": "3.9.7"
  }
 },
 "nbformat": 4,
 "nbformat_minor": 5
}
